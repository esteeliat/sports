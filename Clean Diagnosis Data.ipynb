{
 "cells": [
  {
   "cell_type": "code",
   "execution_count": 2,
   "id": "b898c68e-91d9-458f-a8d2-a2c6dadbb8a6",
   "metadata": {},
   "outputs": [],
   "source": [
    "import pandas as pd"
   ]
  },
  {
   "cell_type": "code",
   "execution_count": 3,
   "id": "a43c55e4-53ea-486c-aa2c-b40bf8231d51",
   "metadata": {},
   "outputs": [],
   "source": [
    "ICD10_MAP = {\n",
    "    'C50': 'Breast',\n",
    "    'C51': 'Vulva',\n",
    "    'C52': 'Vagina',\n",
    "    'C53': 'Cervix Uteri',\n",
    "    'C54': 'Corpus Uteri',\n",
    "    'C55': 'Uterus',\n",
    "    'C56': 'Ovary',\n",
    "    'C57': 'Other and Unspecified Female Genital Organs',\n",
    "}"
   ]
  },
  {
   "cell_type": "code",
   "execution_count": 15,
   "id": "4caae720-f6d6-4abf-845a-52ab629c5c5b",
   "metadata": {},
   "outputs": [],
   "source": [
    "df = pd.read_csv('heisin_dag.csv')"
   ]
  },
  {
   "cell_type": "code",
   "execution_count": 16,
   "id": "decfbece-b905-4c30-82f4-138f530d1984",
   "metadata": {},
   "outputs": [],
   "source": [
    "LEVEL = 'level'\n",
    "DIAG = 'diag_icd10'\n",
    "FEMAL_CANCER_TYPE = 'cancer_type'\n",
    "df[FEMAL_CANCER_TYPE] =df.apply(lambda x: ICD10_MAP.get(str(x[DIAG])[:3], None), axis=1)\n",
    "\n",
    "primary_fc = df[(df[LEVEL] == 'Primary/main diagnosis') & (df[DIAG].str.contains('C5', na=False))]"
   ]
  },
  {
   "cell_type": "code",
   "execution_count": 17,
   "id": "2984526a-be60-4bcf-b0bd-c6a1db01b1db",
   "metadata": {},
   "outputs": [
    {
     "name": "stderr",
     "output_type": "stream",
     "text": [
      "/tmp/ipykernel_2592/3330282795.py:1: DtypeWarning: Columns (3,19,36) have mixed types. Specify dtype option on import or set low_memory=False.\n",
      "  dates = pd.read_csv('bc_hesin.csv', parse_dates=['epistart'])[['dnx_hesin_id', 'epistart']]\n"
     ]
    },
    {
     "name": "stdout",
     "output_type": "stream",
     "text": [
      "<class 'pandas.core.frame.DataFrame'>\n",
      "RangeIndex: 142992 entries, 0 to 142991\n",
      "Data columns (total 12 columns):\n",
      " #   Column             Non-Null Count   Dtype         \n",
      "---  ------             --------------   -----         \n",
      " 0   dnx_hesin_diag_id  142992 non-null  object        \n",
      " 1   dnx_hesin_id       142992 non-null  object        \n",
      " 2   eid                142992 non-null  int64         \n",
      " 3   ins_index          142992 non-null  int64         \n",
      " 4   arr_index          142992 non-null  int64         \n",
      " 5   level              142992 non-null  object        \n",
      " 6   diag_icd9          0 non-null       object        \n",
      " 7   diag_icd9_nb       0 non-null       float64       \n",
      " 8   diag_icd10         142992 non-null  object        \n",
      " 9   diag_icd10_nb      32 non-null      object        \n",
      " 10  cancer_type        142992 non-null  object        \n",
      " 11  epistart           142831 non-null  datetime64[ns]\n",
      "dtypes: datetime64[ns](1), float64(1), int64(3), object(7)\n",
      "memory usage: 13.1+ MB\n"
     ]
    }
   ],
   "source": [
    "dates = pd.read_csv('bc_hesin.csv', parse_dates=['epistart'])[['dnx_hesin_id', 'epistart']] \n",
    "primary_fc = primary_fc.merge(dates, on='dnx_hesin_id', how='left')\n",
    "primary_fc.info(show_counts=True)"
   ]
  },
  {
   "cell_type": "code",
   "execution_count": 27,
   "id": "d326c731-31ad-4f10-8ebd-f92930cbac2b",
   "metadata": {},
   "outputs": [
    {
     "data": {
      "text/html": [
       "<div>\n",
       "<style scoped>\n",
       "    .dataframe tbody tr th:only-of-type {\n",
       "        vertical-align: middle;\n",
       "    }\n",
       "\n",
       "    .dataframe tbody tr th {\n",
       "        vertical-align: top;\n",
       "    }\n",
       "\n",
       "    .dataframe thead th {\n",
       "        text-align: right;\n",
       "    }\n",
       "</style>\n",
       "<table border=\"1\" class=\"dataframe\">\n",
       "  <thead>\n",
       "    <tr style=\"text-align: right;\">\n",
       "      <th>cancer_type</th>\n",
       "      <th>eid</th>\n",
       "      <th>Breast</th>\n",
       "      <th>Cervix Uteri</th>\n",
       "      <th>Corpus Uteri</th>\n",
       "      <th>Other and Unspecified Female Genital Organs</th>\n",
       "      <th>Ovary</th>\n",
       "      <th>Uterus</th>\n",
       "      <th>Vagina</th>\n",
       "      <th>Vulva</th>\n",
       "    </tr>\n",
       "    <tr>\n",
       "      <th>number_cancer</th>\n",
       "      <th></th>\n",
       "      <th></th>\n",
       "      <th></th>\n",
       "      <th></th>\n",
       "      <th></th>\n",
       "      <th></th>\n",
       "      <th></th>\n",
       "      <th></th>\n",
       "      <th></th>\n",
       "    </tr>\n",
       "  </thead>\n",
       "  <tbody>\n",
       "    <tr>\n",
       "      <th>1</th>\n",
       "      <td>19401</td>\n",
       "      <td>6280</td>\n",
       "      <td>2</td>\n",
       "      <td>29</td>\n",
       "      <td>20</td>\n",
       "      <td>1290</td>\n",
       "      <td>2</td>\n",
       "      <td>0</td>\n",
       "      <td>3</td>\n",
       "    </tr>\n",
       "    <tr>\n",
       "      <th>2</th>\n",
       "      <td>638</td>\n",
       "      <td>414</td>\n",
       "      <td>27</td>\n",
       "      <td>302</td>\n",
       "      <td>146</td>\n",
       "      <td>314</td>\n",
       "      <td>18</td>\n",
       "      <td>6</td>\n",
       "      <td>26</td>\n",
       "    </tr>\n",
       "    <tr>\n",
       "      <th>3</th>\n",
       "      <td>49</td>\n",
       "      <td>38</td>\n",
       "      <td>8</td>\n",
       "      <td>37</td>\n",
       "      <td>17</td>\n",
       "      <td>25</td>\n",
       "      <td>18</td>\n",
       "      <td>2</td>\n",
       "      <td>2</td>\n",
       "    </tr>\n",
       "    <tr>\n",
       "      <th>4</th>\n",
       "      <td>5</td>\n",
       "      <td>5</td>\n",
       "      <td>2</td>\n",
       "      <td>5</td>\n",
       "      <td>2</td>\n",
       "      <td>2</td>\n",
       "      <td>4</td>\n",
       "      <td>0</td>\n",
       "      <td>0</td>\n",
       "    </tr>\n",
       "  </tbody>\n",
       "</table>\n",
       "</div>"
      ],
      "text/plain": [
       "cancer_type      eid  Breast  Cervix Uteri  Corpus Uteri  \\\n",
       "number_cancer                                              \n",
       "1              19401    6280             2            29   \n",
       "2                638     414            27           302   \n",
       "3                 49      38             8            37   \n",
       "4                  5       5             2             5   \n",
       "\n",
       "cancer_type    Other and Unspecified Female Genital Organs  Ovary  Uterus  \\\n",
       "number_cancer                                                               \n",
       "1                                                       20   1290       2   \n",
       "2                                                      146    314      18   \n",
       "3                                                       17     25      18   \n",
       "4                                                        2      2       4   \n",
       "\n",
       "cancer_type    Vagina  Vulva  \n",
       "number_cancer                 \n",
       "1                   0      3  \n",
       "2                   6     26  \n",
       "3                   2      2  \n",
       "4                   0      0  "
      ]
     },
     "execution_count": 27,
     "metadata": {},
     "output_type": "execute_result"
    }
   ],
   "source": [
    "pivot_df = primary_fc.pivot_table(index='eid', \n",
    "                          columns=FEMAL_CANCER_TYPE, \n",
    "                          values='epistart', \n",
    "                          aggfunc='min', \n",
    "                          fill_value=None).reset_index()\n",
    "pivot_df['number_cancer'] = pivot_df[ICD10_MAP.values()].count(axis=1)\n",
    "# Display result\n",
    "pivot_df.groupby('number_cancer').nunique('eid')"
   ]
  },
  {
   "cell_type": "code",
   "execution_count": 32,
   "id": "82d9107e-903e-4149-a16d-943e34418421",
   "metadata": {},
   "outputs": [
    {
     "name": "stdout",
     "output_type": "stream",
     "text": [
      "Sum of True values per cancer type:\n",
      "cancer_type\n",
      "Breast                                         18348\n",
      "Cervix Uteri                                      39\n",
      "Corpus Uteri                                     377\n",
      "Other and Unspecified Female Genital Organs      188\n",
      "Ovary                                           1811\n",
      "Uterus                                            42\n",
      "Vagina                                             8\n",
      "Vulva                                             31\n",
      "number_cancer                                  20093\n",
      "dtype: int64\n"
     ]
    }
   ],
   "source": [
    "sum_of_true_values = pivot_df.drop(columns='eid').count()\n",
    "print(\"Sum of True values per cancer type:\")\n",
    "print(sum_of_true_values)"
   ]
  },
  {
   "cell_type": "code",
   "execution_count": 33,
   "id": "46b723a5-323f-4d1a-9cf0-ad1954f7c2fa",
   "metadata": {},
   "outputs": [],
   "source": [
    "pivot_df.to_csv('cleaned_diagnosis_data.csv')"
   ]
  },
  {
   "cell_type": "code",
   "execution_count": null,
   "id": "795b1b09-a7c7-46ef-bf72-2a0310aa1c14",
   "metadata": {},
   "outputs": [],
   "source": []
  }
 ],
 "metadata": {
  "kernelspec": {
   "display_name": "Python 3 (ipykernel)",
   "language": "python",
   "name": "python3"
  },
  "language_info": {
   "codemirror_mode": {
    "name": "ipython",
    "version": 3
   },
   "file_extension": ".py",
   "mimetype": "text/x-python",
   "name": "python",
   "nbconvert_exporter": "python",
   "pygments_lexer": "ipython3",
   "version": "3.12.3"
  }
 },
 "nbformat": 4,
 "nbformat_minor": 5
}
