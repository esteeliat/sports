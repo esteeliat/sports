{
 "cells": [
  {
   "cell_type": "code",
   "execution_count": 37,
   "id": "b898c68e-91d9-458f-a8d2-a2c6dadbb8a6",
   "metadata": {},
   "outputs": [],
   "source": [
    "import pandas as pd"
   ]
  },
  {
   "cell_type": "code",
   "execution_count": 38,
   "id": "a43c55e4-53ea-486c-aa2c-b40bf8231d51",
   "metadata": {},
   "outputs": [],
   "source": [
    "ICD10_MAP = {\n",
    "    'C50': 'Breast',\n",
    "    'C51': 'Vulva',\n",
    "    'C52': 'Vagina',\n",
    "    'C53': 'Cervix Uteri',\n",
    "    'C54': 'Corpus Uteri',\n",
    "    'C55': 'Uterus',\n",
    "    'C56': 'Ovary',\n",
    "    'C57': 'Other and Unspecified Female Genital Organs',\n",
    "}"
   ]
  },
  {
   "cell_type": "code",
   "execution_count": 39,
   "id": "4caae720-f6d6-4abf-845a-52ab629c5c5b",
   "metadata": {},
   "outputs": [],
   "source": [
    "df = pd.read_csv('heisin_dag.csv')"
   ]
  },
  {
   "cell_type": "code",
   "execution_count": 40,
   "id": "decfbece-b905-4c30-82f4-138f530d1984",
   "metadata": {},
   "outputs": [],
   "source": [
    "LEVEL = 'level'\n",
    "DIAG = 'diag_icd10'\n",
    "FEMAL_CANCER_TYPE = 'cancer_type'\n",
    "df[FEMAL_CANCER_TYPE] =df.apply(lambda x: ICD10_MAP.get(str(x[DIAG])[:3], None), axis=1)\n",
    "\n",
    "primary_fc = df[(df[LEVEL] == 'Primary/main diagnosis') & (df[DIAG].str.contains('C5', na=False))]"
   ]
  },
  {
   "cell_type": "code",
   "execution_count": 41,
   "id": "d326c731-31ad-4f10-8ebd-f92930cbac2b",
   "metadata": {},
   "outputs": [
    {
     "name": "stderr",
     "output_type": "stream",
     "text": [
      "/var/folders/11/krx912jd2nqgvltq6nl2ghc00000gn/T/ipykernel_31464/3933472844.py:1: SettingWithCopyWarning: \n",
      "A value is trying to be set on a copy of a slice from a DataFrame.\n",
      "Try using .loc[row_indexer,col_indexer] = value instead\n",
      "\n",
      "See the caveats in the documentation: https://pandas.pydata.org/pandas-docs/stable/user_guide/indexing.html#returning-a-view-versus-a-copy\n",
      "  primary_fc['has_cancer'] = True    # Mark presence of cancer\n"
     ]
    },
    {
     "data": {
      "text/html": [
       "<div>\n",
       "<style scoped>\n",
       "    .dataframe tbody tr th:only-of-type {\n",
       "        vertical-align: middle;\n",
       "    }\n",
       "\n",
       "    .dataframe tbody tr th {\n",
       "        vertical-align: top;\n",
       "    }\n",
       "\n",
       "    .dataframe thead th {\n",
       "        text-align: right;\n",
       "    }\n",
       "</style>\n",
       "<table border=\"1\" class=\"dataframe\">\n",
       "  <thead>\n",
       "    <tr style=\"text-align: right;\">\n",
       "      <th>cancer_type</th>\n",
       "      <th>eid</th>\n",
       "      <th>Breast</th>\n",
       "      <th>Cervix Uteri</th>\n",
       "      <th>Corpus Uteri</th>\n",
       "      <th>Other and Unspecified Female Genital Organs</th>\n",
       "      <th>Ovary</th>\n",
       "      <th>Uterus</th>\n",
       "      <th>Vagina</th>\n",
       "      <th>Vulva</th>\n",
       "    </tr>\n",
       "    <tr>\n",
       "      <th>number_cancer</th>\n",
       "      <th></th>\n",
       "      <th></th>\n",
       "      <th></th>\n",
       "      <th></th>\n",
       "      <th></th>\n",
       "      <th></th>\n",
       "      <th></th>\n",
       "      <th></th>\n",
       "      <th></th>\n",
       "    </tr>\n",
       "  </thead>\n",
       "  <tbody>\n",
       "    <tr>\n",
       "      <th>1</th>\n",
       "      <td>19433</td>\n",
       "      <td>2</td>\n",
       "      <td>2</td>\n",
       "      <td>2</td>\n",
       "      <td>2</td>\n",
       "      <td>2</td>\n",
       "      <td>2</td>\n",
       "      <td>1</td>\n",
       "      <td>2</td>\n",
       "    </tr>\n",
       "    <tr>\n",
       "      <th>2</th>\n",
       "      <td>638</td>\n",
       "      <td>2</td>\n",
       "      <td>2</td>\n",
       "      <td>2</td>\n",
       "      <td>2</td>\n",
       "      <td>2</td>\n",
       "      <td>2</td>\n",
       "      <td>2</td>\n",
       "      <td>2</td>\n",
       "    </tr>\n",
       "    <tr>\n",
       "      <th>3</th>\n",
       "      <td>49</td>\n",
       "      <td>2</td>\n",
       "      <td>2</td>\n",
       "      <td>2</td>\n",
       "      <td>2</td>\n",
       "      <td>2</td>\n",
       "      <td>2</td>\n",
       "      <td>2</td>\n",
       "      <td>2</td>\n",
       "    </tr>\n",
       "    <tr>\n",
       "      <th>4</th>\n",
       "      <td>5</td>\n",
       "      <td>1</td>\n",
       "      <td>2</td>\n",
       "      <td>1</td>\n",
       "      <td>2</td>\n",
       "      <td>2</td>\n",
       "      <td>2</td>\n",
       "      <td>1</td>\n",
       "      <td>1</td>\n",
       "    </tr>\n",
       "  </tbody>\n",
       "</table>\n",
       "</div>"
      ],
      "text/plain": [
       "cancer_type      eid  Breast  Cervix Uteri  Corpus Uteri  \\\n",
       "number_cancer                                              \n",
       "1              19433       2             2             2   \n",
       "2                638       2             2             2   \n",
       "3                 49       2             2             2   \n",
       "4                  5       1             2             1   \n",
       "\n",
       "cancer_type    Other and Unspecified Female Genital Organs  Ovary  Uterus  \\\n",
       "number_cancer                                                               \n",
       "1                                                        2      2       2   \n",
       "2                                                        2      2       2   \n",
       "3                                                        2      2       2   \n",
       "4                                                        2      2       2   \n",
       "\n",
       "cancer_type    Vagina  Vulva  \n",
       "number_cancer                 \n",
       "1                   1      2  \n",
       "2                   2      2  \n",
       "3                   2      2  \n",
       "4                   1      1  "
      ]
     },
     "execution_count": 41,
     "metadata": {},
     "output_type": "execute_result"
    }
   ],
   "source": [
    "primary_fc['has_cancer'] = True    # Mark presence of cancer\n",
    "pivot_df = primary_fc.pivot_table(index='eid', \n",
    "                          columns=FEMAL_CANCER_TYPE, \n",
    "                          values='has_cancer', \n",
    "                          aggfunc='max', \n",
    "                          fill_value=False).astype(bool).reset_index()\n",
    "pivot_df['number_cancer'] = pivot_df[ICD10_MAP.values()].sum(axis=1)\n",
    "# Display result\n",
    "pivot_df.groupby('number_cancer').nunique('eid')"
   ]
  },
  {
   "cell_type": "code",
   "execution_count": 42,
   "id": "82d9107e-903e-4149-a16d-943e34418421",
   "metadata": {},
   "outputs": [
    {
     "name": "stdout",
     "output_type": "stream",
     "text": [
      "Sum of True values per cancer type:\n",
      "cancer_type\n",
      "Breast                                         18377\n",
      "Cervix Uteri                                      39\n",
      "Corpus Uteri                                     377\n",
      "Other and Unspecified Female Genital Organs      188\n",
      "Ovary                                           1814\n",
      "Uterus                                            42\n",
      "Vagina                                             8\n",
      "Vulva                                             31\n",
      "number_cancer                                  20876\n",
      "dtype: int64\n"
     ]
    }
   ],
   "source": [
    "sum_of_true_values = pivot_df.drop(columns='eid').sum()\n",
    "print(\"Sum of True values per cancer type:\")\n",
    "print(sum_of_true_values)"
   ]
  },
  {
   "cell_type": "code",
   "execution_count": 43,
   "id": "46b723a5-323f-4d1a-9cf0-ad1954f7c2fa",
   "metadata": {},
   "outputs": [],
   "source": [
    "pivot_df.to_csv('cleaned_diagnosis_data.csv')"
   ]
  },
  {
   "cell_type": "code",
   "execution_count": 35,
   "id": "237f2cc6-9b11-450f-b849-e12afe93787b",
   "metadata": {},
   "outputs": [
    {
     "data": {
      "text/plain": [
       "46350"
      ]
     },
     "execution_count": 35,
     "metadata": {},
     "output_type": "execute_result"
    }
   ],
   "source": [
    "len(set(primary_fc['eid']))"
   ]
  },
  {
   "cell_type": "code",
   "execution_count": null,
   "id": "7366feb3-e554-4472-a575-a2b3f0df0b48",
   "metadata": {},
   "outputs": [],
   "source": []
  }
 ],
 "metadata": {
  "kernelspec": {
   "display_name": "Python 3 (ipykernel)",
   "language": "python",
   "name": "python3"
  },
  "language_info": {
   "codemirror_mode": {
    "name": "ipython",
    "version": 3
   },
   "file_extension": ".py",
   "mimetype": "text/x-python",
   "name": "python",
   "nbconvert_exporter": "python",
   "pygments_lexer": "ipython3",
   "version": "3.12.7"
  }
 },
 "nbformat": 4,
 "nbformat_minor": 5
}
