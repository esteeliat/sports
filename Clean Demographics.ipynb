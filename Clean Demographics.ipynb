{
 "cells": [
  {
   "cell_type": "code",
   "execution_count": 1,
   "id": "0eb32314-d6bd-462c-a84f-449e1fcbd957",
   "metadata": {},
   "outputs": [],
   "source": [
    "import pandas as pd"
   ]
  },
  {
   "cell_type": "code",
   "execution_count": 70,
   "id": "2058fb61-86ef-49de-ad0f-572c9888fcbb",
   "metadata": {},
   "outputs": [
    {
     "name": "stdout",
     "output_type": "stream",
     "text": [
      "<class 'pandas.core.frame.DataFrame'>\n",
      "RangeIndex: 50854 entries, 0 to 50853\n",
      "Data columns (total 15 columns):\n",
      " #   Column                                            Non-Null Count  Dtype  \n",
      "---  ------                                            --------------  -----  \n",
      " 0   Participant ID                                    50854 non-null  int64  \n",
      " 1   Sex                                               50854 non-null  object \n",
      " 2   Year of birth                                     20854 non-null  float64\n",
      " 3   Ethnic background | Instance 0                    20830 non-null  object \n",
      " 4   Qualifications | Instance 0                       20648 non-null  object \n",
      " 5   Townsend deprivation index at recruitment         20835 non-null  float64\n",
      " 6   Body mass index (BMI) | Instance 0                20753 non-null  float64\n",
      " 7   Body mass index (BMI) | Instance 0.1              20451 non-null  float64\n",
      " 8   Smoking status | Instance 0                       20830 non-null  object \n",
      " 9   Current tobacco smoking | Instance 0              20830 non-null  object \n",
      " 10  Past tobacco smoking | Instance 0                 19460 non-null  object \n",
      " 11  IPAQ activity group | Instance 0                  45193 non-null  object \n",
      " 12  Moderate-Vigorous - Overall average | Instance 0  34097 non-null  float64\n",
      " 13  Standard PRS for breast cancer (BC)               49798 non-null  float64\n",
      " 14  Enhanced PRS for breast cancer (BC)               3986 non-null   float64\n",
      "dtypes: float64(7), int64(1), object(7)\n",
      "memory usage: 5.8+ MB\n"
     ]
    }
   ],
   "source": [
    "bc_df = pd.read_csv('participant_table.csv')\n",
    "#todo - really this risk table should be combined with participant_table in one file for bc cohort, but for now we have 2 seperate\n",
    "risk = pd.read_csv('bc_risk.csv')[['Participant ID', 'Standard PRS for breast cancer (BC)', 'Enhanced PRS for breast cancer (BC)']]\n",
    "bc_df = bc_df.merge(risk, on='Participant ID', how='left').reset_index()\n",
    "\n",
    "# combine with control data\n",
    "control_df = pd.read_csv('control_participant_table.csv')\n",
    "df = pd.concat([bc_df, control_df], ignore_index=True)\n",
    "df.drop(columns='index', inplace=True)\n",
    "df.info(show_counts=True)"
   ]
  },
  {
   "cell_type": "code",
   "execution_count": 71,
   "id": "03bfce9b-d91a-418d-8923-2a37f46248aa",
   "metadata": {},
   "outputs": [
    {
     "name": "stdout",
     "output_type": "stream",
     "text": [
      "<class 'pandas.core.frame.DataFrame'>\n",
      "RangeIndex: 50854 entries, 0 to 50853\n",
      "Data columns (total 18 columns):\n",
      " #   Column                                            Non-Null Count  Dtype  \n",
      "---  ------                                            --------------  -----  \n",
      " 0   Participant ID                                    50854 non-null  int64  \n",
      " 1   Sex                                               50854 non-null  object \n",
      " 2   Year of birth                                     20854 non-null  float64\n",
      " 3   Ethnic background | Instance 0                    20830 non-null  object \n",
      " 4   Qualifications | Instance 0                       20648 non-null  object \n",
      " 5   Townsend deprivation index at recruitment         20835 non-null  float64\n",
      " 6   Body mass index (BMI) | Instance 0                20753 non-null  float64\n",
      " 7   Body mass index (BMI) | Instance 0.1              20451 non-null  float64\n",
      " 8   Smoking status | Instance 0                       20830 non-null  object \n",
      " 9   Current tobacco smoking | Instance 0              20830 non-null  object \n",
      " 10  Past tobacco smoking | Instance 0                 19460 non-null  object \n",
      " 11  IPAQ activity group | Instance 0                  45193 non-null  object \n",
      " 12  Moderate-Vigorous - Overall average | Instance 0  34097 non-null  float64\n",
      " 13  Standard PRS for breast cancer (BC)               49798 non-null  float64\n",
      " 14  Enhanced PRS for breast cancer (BC)               3986 non-null   float64\n",
      " 15  age                                               20854 non-null  float64\n",
      " 16  BMI                                               20753 non-null  float64\n",
      " 17  Smoking                                           20830 non-null  object \n",
      "dtypes: float64(9), int64(1), object(8)\n",
      "memory usage: 7.0+ MB\n"
     ]
    }
   ],
   "source": [
    "df['age'] = 2025 - df['Year of birth']\n",
    "df['BMI'] = df['Body mass index (BMI) | Instance 0']\n",
    "df['Smoking'] = df.apply(lambda x:\n",
    "    x['Past tobacco smoking | Instance 0'] if \n",
    "    type(x['Past tobacco smoking | Instance 0']) != float else\n",
    "    x['Current tobacco smoking | Instance 0'],\n",
    "    axis=1)\n",
    "df.info(show_counts=True)"
   ]
  },
  {
   "cell_type": "code",
   "execution_count": 73,
   "id": "9103217a-2e70-4cdf-8717-0a89fea00142",
   "metadata": {},
   "outputs": [],
   "source": [
    "final_df = df[[\n",
    "    'Participant ID', 'age', 'Sex', 'Townsend deprivation index at recruitment', 'BMI', 'Smoking',\n",
    "    'IPAQ activity group | Instance 0', 'Moderate-Vigorous - Overall average | Instance 0',\n",
    "    'Standard PRS for breast cancer (BC)'\n",
    "]]\n",
    "final_df.to_csv('cleaned_participant_table.csv')"
   ]
  },
  {
   "cell_type": "code",
   "execution_count": null,
   "id": "3513882f-043d-4a81-b008-f1f3a22edd0b",
   "metadata": {},
   "outputs": [],
   "source": []
  }
 ],
 "metadata": {
  "kernelspec": {
   "display_name": "Python 3 (ipykernel)",
   "language": "python",
   "name": "python3"
  },
  "language_info": {
   "codemirror_mode": {
    "name": "ipython",
    "version": 3
   },
   "file_extension": ".py",
   "mimetype": "text/x-python",
   "name": "python",
   "nbconvert_exporter": "python",
   "pygments_lexer": "ipython3",
   "version": "3.12.7"
  }
 },
 "nbformat": 4,
 "nbformat_minor": 5
}
