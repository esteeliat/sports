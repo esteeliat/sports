{
 "cells": [
  {
   "cell_type": "code",
   "execution_count": 1,
   "id": "0eb32314-d6bd-462c-a84f-449e1fcbd957",
   "metadata": {},
   "outputs": [],
   "source": [
    "import pandas as pd"
   ]
  },
  {
   "cell_type": "code",
   "execution_count": 2,
   "id": "2058fb61-86ef-49de-ad0f-572c9888fcbb",
   "metadata": {},
   "outputs": [
    {
     "name": "stdout",
     "output_type": "stream",
     "text": [
      "<class 'pandas.core.frame.DataFrame'>\n",
      "RangeIndex: 51848 entries, 0 to 51847\n",
      "Data columns (total 23 columns):\n",
      " #   Column                                                       Non-Null Count  Dtype  \n",
      "---  ------                                                       --------------  -----  \n",
      " 0   Participant ID                                               51848 non-null  int64  \n",
      " 1   Sleep - Overall average | Instance 0                         35091 non-null  float64\n",
      " 2   Sedentary - Overall average | Instance 0                     35091 non-null  float64\n",
      " 3   Light - Overall average | Instance 0                         35091 non-null  float64\n",
      " 4   Moderate-Vigorous - Overall average | Instance 0             35091 non-null  float64\n",
      " 5   IPAQ activity group | Instance 0                             46187 non-null  float64\n",
      " 6   IPAQ activity group | Instance 1                             2801 non-null   float64\n",
      " 7   IPAQ activity group | Instance 2                             9224 non-null   float64\n",
      " 8   IPAQ activity group | Instance 3                             904 non-null    float64\n",
      " 9   Sex                                                          51848 non-null  int64  \n",
      " 10  Year of birth                                                51848 non-null  int64  \n",
      " 11  Ethnic background | Instance 0                               51824 non-null  float64\n",
      " 12  Qualifications | Instance 0                                  51641 non-null  object \n",
      " 13  Townsend deprivation index at recruitment                    51798 non-null  float64\n",
      " 14  Body mass index (BMI) | Instance 0(participant - p21001_i0)  51690 non-null  float64\n",
      " 15  Body mass index (BMI) | Instance 0(participant - p23104_i0)  51052 non-null  float64\n",
      " 16  Current tobacco smoking | Instance 0                         51824 non-null  float64\n",
      " 17  Past tobacco smoking | Instance 0                            49205 non-null  float64\n",
      " 18  Date of attending assessment centre | Instance 0             51848 non-null  object \n",
      " 19  Date of attending assessment centre | Instance 1             3185 non-null   object \n",
      " 20  Date of attending assessment centre | Instance 2             11576 non-null  object \n",
      " 21  Date of attending assessment centre | Instance 3             1170 non-null   object \n",
      " 22  Standard PRS for breast cancer (BC)                          50792 non-null  float64\n",
      "dtypes: float64(15), int64(3), object(5)\n",
      "memory usage: 9.1+ MB\n"
     ]
    }
   ],
   "source": [
    "bc_df = pd.read_csv('bc_demographic_data.csv')\n",
    "\n",
    "# combine with control data\n",
    "control_df = pd.read_csv('control_demographic_data.csv')\n",
    "df = pd.concat([bc_df, control_df], ignore_index=True)\n",
    "df.info(show_counts=True)"
   ]
  },
  {
   "cell_type": "code",
   "execution_count": 3,
   "id": "03bfce9b-d91a-418d-8923-2a37f46248aa",
   "metadata": {},
   "outputs": [],
   "source": [
    "df['age'] = 2025 - df['Year of birth']\n",
    "df['BMI'] = df['Body mass index (BMI) | Instance 0(participant - p21001_i0)']\n",
    "df['Smoking'] = df.apply(lambda x:\n",
    "    x['Past tobacco smoking | Instance 0'] if \n",
    "    type(x['Past tobacco smoking | Instance 0']) != float else\n",
    "    x['Current tobacco smoking | Instance 0'],\n",
    "    axis=1)"
   ]
  },
  {
   "cell_type": "code",
   "execution_count": 4,
   "id": "9103217a-2e70-4cdf-8717-0a89fea00142",
   "metadata": {},
   "outputs": [],
   "source": [
    "# final_df = df[[\n",
    "#     'Participant ID', 'age', 'Sex', 'Townsend deprivation index at recruitment', 'BMI', 'Smoking',\n",
    "#     'IPAQ activity group | Instance 0', 'Moderate-Vigorous - Overall average | Instance 0',\n",
    "#     'Standard PRS for breast cancer (BC)'\n",
    "# ]]\n",
    "df.to_csv('cleaned_participant_table.csv')"
   ]
  },
  {
   "cell_type": "code",
   "execution_count": null,
   "id": "3513882f-043d-4a81-b008-f1f3a22edd0b",
   "metadata": {},
   "outputs": [],
   "source": []
  }
 ],
 "metadata": {
  "kernelspec": {
   "display_name": "Python 3 (ipykernel)",
   "language": "python",
   "name": "python3"
  },
  "language_info": {
   "codemirror_mode": {
    "name": "ipython",
    "version": 3
   },
   "file_extension": ".py",
   "mimetype": "text/x-python",
   "name": "python",
   "nbconvert_exporter": "python",
   "pygments_lexer": "ipython3",
   "version": "3.12.3"
  }
 },
 "nbformat": 4,
 "nbformat_minor": 5
}
